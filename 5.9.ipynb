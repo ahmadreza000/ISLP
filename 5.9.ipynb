{
 "cells": [
  {
   "cell_type": "code",
   "execution_count": 4,
   "id": "2aa34bb7-61cf-41dd-8a20-c3ae99bacf0d",
   "metadata": {},
   "outputs": [
    {
     "data": {
      "text/plain": [
       "22.532806324110677"
      ]
     },
     "execution_count": 4,
     "metadata": {},
     "output_type": "execute_result"
    }
   ],
   "source": [
    "# a\n",
    "import os\n",
    "import pandas as pd\n",
    "import matplotlib.pyplot as plt\n",
    "import numpy as np\n",
    "from ISLP import load_data\n",
    "Boston = load_data('Boston')\n",
    "mu_hat = Boston['medv'].mean()\n",
    "mu_hat"
   ]
  },
  {
   "cell_type": "code",
   "execution_count": 116,
   "id": "8b3a4531-f6d1-4baf-aaee-d3db9da45fcf",
   "metadata": {},
   "outputs": [
    {
     "data": {
      "text/plain": [
       "0.40886114749753505"
      ]
     },
     "execution_count": 116,
     "metadata": {},
     "output_type": "execute_result"
    }
   ],
   "source": [
    "# b\n",
    "Boston['medv'].std()/np.sqrt(len(Boston['medv']))\n",
    "# Boston['medv']"
   ]
  },
  {
   "cell_type": "code",
   "execution_count": 123,
   "id": "ecdb6f97-c63c-45ca-a53e-651ae75899c3",
   "metadata": {},
   "outputs": [
    {
     "data": {
      "text/plain": [
       "0.4178957544704453"
      ]
     },
     "execution_count": 123,
     "metadata": {},
     "output_type": "execute_result"
    }
   ],
   "source": [
    "# c\n",
    "save=[]\n",
    "for i in range(200):\n",
    "    sample = np.random.choice(Boston['medv'], size=506, replace=True)\n",
    "    # np.std(sample)/np.sqrt(100)\n",
    "    save.append(sample.mean())\n",
    "    \n",
    "save = np.array(save)\n",
    "np.std(save)\n"
   ]
  },
  {
   "cell_type": "code",
   "execution_count": 124,
   "id": "4e2a5a55-8cdb-403a-a4e0-737d7614d6fb",
   "metadata": {},
   "outputs": [
    {
     "data": {
      "text/plain": [
       "(21.697014815169787, 23.368597833051567)"
      ]
     },
     "execution_count": 124,
     "metadata": {},
     "output_type": "execute_result"
    }
   ],
   "source": [
    "# d\n",
    "(mu_hat - 2*np.std(save),mu_hat + 2*np.std(save)) "
   ]
  },
  {
   "cell_type": "code",
   "execution_count": 125,
   "id": "2e8a227e-c9d1-4f9b-9ec8-06df81212f18",
   "metadata": {},
   "outputs": [
    {
     "data": {
      "text/plain": [
       "21.2"
      ]
     },
     "execution_count": 125,
     "metadata": {},
     "output_type": "execute_result"
    }
   ],
   "source": [
    "# e\n",
    "Boston['medv'].median()"
   ]
  },
  {
   "cell_type": "code",
   "execution_count": 131,
   "id": "b3df9a10-3cf1-4019-8ac4-aeb722bb6f42",
   "metadata": {},
   "outputs": [
    {
     "data": {
      "text/plain": [
       "0.36001527745361006"
      ]
     },
     "execution_count": 131,
     "metadata": {},
     "output_type": "execute_result"
    }
   ],
   "source": [
    "# f\n",
    "save=[]\n",
    "for i in range(200):\n",
    "    sample = np.random.choice(Boston['medv'], size=506, replace=True)\n",
    "    # np.std(sample)/np.sqrt(100)\n",
    "    save.append(np.median(sample))\n",
    "    \n",
    "save = np.array(save)\n",
    "np.std(save)\n"
   ]
  },
  {
   "cell_type": "code",
   "execution_count": 132,
   "id": "e2b56ab9-3002-4961-9dd8-dfb8e85defe8",
   "metadata": {},
   "outputs": [
    {
     "data": {
      "text/plain": [
       "12.75"
      ]
     },
     "execution_count": 132,
     "metadata": {},
     "output_type": "execute_result"
    }
   ],
   "source": [
    "# g \n",
    "np.percentile(Boston['medv'],10)"
   ]
  },
  {
   "cell_type": "code",
   "execution_count": 143,
   "id": "6345e6db-dd8c-4ebf-a725-4052e921211d",
   "metadata": {},
   "outputs": [
    {
     "data": {
      "text/plain": [
       "0.4997686964986902"
      ]
     },
     "execution_count": 143,
     "metadata": {},
     "output_type": "execute_result"
    }
   ],
   "source": [
    "# h\n",
    "save=[]\n",
    "for i in range(200):\n",
    "    sample = np.random.choice(Boston['medv'], size=506, replace=True)\n",
    "    # np.std(sample)/np.sqrt(100)\n",
    "    save.append(np.percentile(sample,10))\n",
    "    \n",
    "save = np.array(save)\n",
    "np.std(save)\n"
   ]
  }
 ],
 "metadata": {
  "kernelspec": {
   "display_name": "Python 3 (ipykernel)",
   "language": "python",
   "name": "python3"
  },
  "language_info": {
   "codemirror_mode": {
    "name": "ipython",
    "version": 3
   },
   "file_extension": ".py",
   "mimetype": "text/x-python",
   "name": "python",
   "nbconvert_exporter": "python",
   "pygments_lexer": "ipython3",
   "version": "3.11.5"
  }
 },
 "nbformat": 4,
 "nbformat_minor": 5
}
