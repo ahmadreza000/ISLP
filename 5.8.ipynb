{
 "cells": [
  {
   "cell_type": "code",
   "execution_count": 5,
   "id": "12f2839d-264e-47e6-9f88-1c364d076f67",
   "metadata": {},
   "outputs": [
    {
     "data": {
      "image/png": "[encoded data removed]",
      "text/plain": [
       "<Figure size 640x480 with 1 Axes>"
      ]
     },
     "metadata": {},
     "output_type": "display_data"
    }
   ],
   "source": [
    "# HW 2\n",
    "# a\n",
    "import numpy as np\n",
    "rng = np.random.default_rng(1)\n",
    "x = rng.normal(size=100)\n",
    "y = x - 2 * x**2 + rng.normal(size=100)\n",
    "# b\n",
    "import matplotlib.pyplot as plt\n",
    "plt.scatter(x, y)\n",
    "plt.show()"
   ]
  },
  {
   "cell_type": "code",
   "execution_count": 61,
   "id": "aa4e462b-b98d-4ec9-b109-38d8927bf517",
   "metadata": {},
   "outputs": [
    {
     "name": "stdout",
     "output_type": "stream",
     "text": [
      "MSE of degree 1 is  10.66218284282276\n",
      "MSE of degree 2 is  1.1229368563419688\n",
      "MSE of degree 3 is  1.301796548935888\n",
      "MSE of degree 4 is  1.3323942694179332\n"
     ]
    }
   ],
   "source": [
    "# c\n",
    "rng = np.random.default_rng(5200)\n",
    "from sklearn.model_selection import LeaveOneOut\n",
    "loo = LeaveOneOut()\n",
    "loo.get_n_splits(x)\n",
    "mse=[]\n",
    "for i, (train_index, test_index) in enumerate(loo.split(x)):\n",
    "    p = np.polyfit(x[train_index], y[train_index], 1)\n",
    "    Y_99 = p[0]*(x[test_index])+p[1]*(x[test_index])\n",
    "    mse.append(np.square(np.subtract(y[test_index],Y_99)))\n",
    "mse = np.mean(mse) \n",
    "print (\"MSE of degree 1 is \", mse)\n",
    "mse=[]\n",
    "for i, (train_index, test_index) in enumerate(loo.split(x)):\n",
    "    p = np.polyfit(x[train_index], y[train_index], 2)\n",
    "    Y_99 = p[0]*(x[test_index]**2)+p[1]*(x[test_index])+p[2]\n",
    "    mse.append(np.square(np.subtract(y[test_index],Y_99)))\n",
    "mse = np.mean(mse) \n",
    "print (\"MSE of degree 2 is \", mse)\n",
    "mse=[]\n",
    "\n",
    "for i, (train_index, test_index) in enumerate(loo.split(x)):\n",
    "    p = np.polyfit(x[train_index], y[train_index], 3)\n",
    "    Y_99 = p[0]*(x[test_index]**3)+p[1]*(x[test_index]**2)+p[2]*(x[test_index])+p[3]\n",
    "    mse.append(np.square(np.subtract(y[test_index],Y_99)))\n",
    "mse = np.mean(mse) \n",
    "print (\"MSE of degree 3 is \", mse)\n",
    "mse=[]\n",
    "\n",
    "for i, (train_index, test_index) in enumerate(loo.split(x)):\n",
    "    p = np.polyfit(x[train_index], y[train_index], 4)\n",
    "    Y_99 = p[0]*(x[test_index]**4)+p[1]*(x[test_index]**3)+p[2]*(x[test_index]**2)+p[3]*(x[test_index])+p[4]\n",
    "    mse.append(np.square(np.subtract(y[test_index],Y_99)))\n",
    "mse = np.mean(mse) \n",
    "print (\"MSE of degree 4 is \", mse)\n",
    "mse=[]\n"
   ]
  },
  {
   "cell_type": "code",
   "execution_count": 62,
   "id": "a23f8ffd-8216-49da-82a7-1f1393d87d96",
   "metadata": {},
   "outputs": [
    {
     "name": "stdout",
     "output_type": "stream",
     "text": [
      "MSE of degree 1 is  10.66218284282276\n",
      "MSE of degree 2 is  1.1229368563419688\n",
      "MSE of degree 3 is  1.301796548935888\n",
      "MSE of degree 4 is  1.3323942694179332\n"
     ]
    }
   ],
   "source": [
    "# d\n",
    "rng = np.random.default_rng(5201)\n",
    "from sklearn.model_selection import LeaveOneOut\n",
    "loo = LeaveOneOut()\n",
    "loo.get_n_splits(x)\n",
    "mse=[]\n",
    "for i, (train_index, test_index) in enumerate(loo.split(x)):\n",
    "    p = np.polyfit(x[train_index], y[train_index], 1)\n",
    "    Y_99 = p[0]*(x[test_index])+p[1]*(x[test_index])\n",
    "    mse.append(np.square(np.subtract(y[test_index],Y_99)))\n",
    "mse = np.mean(mse) \n",
    "print (\"MSE of degree 1 is \", mse)\n",
    "mse=[]\n",
    "for i, (train_index, test_index) in enumerate(loo.split(x)):\n",
    "    p = np.polyfit(x[train_index], y[train_index], 2)\n",
    "    Y_99 = p[0]*(x[test_index]**2)+p[1]*(x[test_index])+p[2]\n",
    "    mse.append(np.square(np.subtract(y[test_index],Y_99)))\n",
    "mse = np.mean(mse) \n",
    "print (\"MSE of degree 2 is \", mse)\n",
    "mse=[]\n",
    "\n",
    "for i, (train_index, test_index) in enumerate(loo.split(x)):\n",
    "    p = np.polyfit(x[train_index], y[train_index], 3)\n",
    "    Y_99 = p[0]*(x[test_index]**3)+p[1]*(x[test_index]**2)+p[2]*(x[test_index])+p[3]\n",
    "    mse.append(np.square(np.subtract(y[test_index],Y_99)))\n",
    "mse = np.mean(mse) \n",
    "print (\"MSE of degree 3 is \", mse)\n",
    "mse=[]\n",
    "\n",
    "for i, (train_index, test_index) in enumerate(loo.split(x)):\n",
    "    p = np.polyfit(x[train_index], y[train_index], 4)\n",
    "    Y_99 = p[0]*(x[test_index]**4)+p[1]*(x[test_index]**3)+p[2]*(x[test_index]**2)+p[3]*(x[test_index])+p[4]\n",
    "    mse.append(np.square(np.subtract(y[test_index],Y_99)))\n",
    "mse = np.mean(mse) \n",
    "print (\"MSE of degree 4 is \", mse)\n",
    "mse=[]\n"
   ]
  },
  {
   "cell_type": "code",
   "execution_count": 63,
   "id": "a55fe88c-3a76-484a-99b6-b57ff55cc7ab",
   "metadata": {},
   "outputs": [
    {
     "data": {
      "text/plain": [
       "array([ 0.10515688,  0.0311254 , -2.51614797,  0.91556133,  0.11718731])"
      ]
     },
     "execution_count": 63,
     "metadata": {},
     "output_type": "execute_result"
    }
   ],
   "source": [
    "p"
   ]
  }
 ],
 "metadata": {
  "kernelspec": {
   "display_name": "Python 3 (ipykernel)",
   "language": "python",
   "name": "python3"
  },
  "language_info": {
   "codemirror_mode": {
    "name": "ipython",
    "version": 3
   },
   "file_extension": ".py",
   "mimetype": "text/x-python",
   "name": "python",
   "nbconvert_exporter": "python",
   "pygments_lexer": "ipython3",
   "version": "3.11.5"
  }
 },
 "nbformat": 4,
 "nbformat_minor": 5
}
